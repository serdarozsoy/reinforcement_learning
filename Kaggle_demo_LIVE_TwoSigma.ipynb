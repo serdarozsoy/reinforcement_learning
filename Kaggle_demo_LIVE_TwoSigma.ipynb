{
  "nbformat": 4,
  "nbformat_minor": 0,
  "metadata": {
    "colab": {
      "name": "Copy of Kaggle_demo_LIVE_TwoSigma.ipynb",
      "version": "0.3.2",
      "provenance": [],
      "collapsed_sections": []
    },
    "kernelspec": {
      "name": "python3",
      "display_name": "Python 3"
    },
    "accelerator": "GPU"
  },
  "cells": [
    {
      "metadata": {
        "id": "j4GZ6WbfjYDo",
        "colab_type": "code",
        "colab": {}
      },
      "cell_type": "code",
      "source": [
        "from google.colab import drive\n",
        "drive.mount('/content/drive')"
      ],
      "execution_count": 0,
      "outputs": []
    },
    {
      "metadata": {
        "id": "TkAyj5NlMyTa",
        "colab_type": "text"
      },
      "cell_type": "markdown",
      "source": [
        "### Time series data Forecasting techniques\n",
        "\n",
        "#### The Naive Approach\n",
        "\n",
        "![alt text](https://s3-ap-south-1.amazonaws.com/av-blog-media/wp-content/uploads/2018/02/naive_new-768x495.png)\n",
        "\n",
        "- If we want to forecast the price for the next day, we can simply take the last day value and estimate the same value for the next day.\n",
        "\n",
        "![alt text](https://s3-ap-south-1.amazonaws.com/av-blog-media/wp-content/uploads/2018/01/Screen-Shot-2018-01-25-at-7.45.20-PM.png)\n",
        "\n",
        "![alt text](https://s3-ap-south-1.amazonaws.com/av-blog-media/wp-content/uploads/2018/02/naive-768x519.png\n",
        ")\n",
        "\n",
        "#### The Simple average\n",
        "\n",
        "![alt text](https://s3-ap-south-1.amazonaws.com/av-blog-media/wp-content/uploads/2018/02/avg_orig_new1-768x510.png)\n",
        "\n",
        "- Lots of times we are provided with a dataset, which varies by a small margin throughout it’s time period, but the average at each time period remains constant. \n",
        "- In such a case we can forecast the price of the next day somewhere similar to the average of all the past days.\n",
        "\n",
        "![alt text](https://s3-ap-south-1.amazonaws.com/av-blog-media/wp-content/uploads/2018/01/Screen-Shot-2018-01-25-at-7.45.10-PM-300x82.png)\n",
        "\n",
        "![alt text](https://s3-ap-south-1.amazonaws.com/av-blog-media/wp-content/uploads/2018/02/avg-768x511.png)\n",
        "\n",
        "\n",
        "#### The Moving average\n",
        "\n",
        "![alt text](https://s3-ap-south-1.amazonaws.com/av-blog-media/wp-content/uploads/2018/02/mov_avg_new-768x531.png)\n",
        "\n",
        "- Using the prices of the initial period would highly affect the forecast for the next period. \n",
        "- Therefore as an improvement over simple average, we will take the average of the prices for last few time periods only. \n",
        "\n",
        "![alt text](https://s3-ap-south-1.amazonaws.com/av-blog-media/wp-content/uploads/2018/01/Screen-Shot-2018-01-25-at-7.47.33-PM.png)\n",
        "\n",
        "![alt text](https://s3-ap-south-1.amazonaws.com/av-blog-media/wp-content/uploads/2018/02/moving_avg-850x428.png)\n",
        "\n",
        "\n",
        "#### Single Exponential smoothing \n",
        "\n",
        "![alt text](https://s3-ap-south-1.amazonaws.com/av-blog-media/wp-content/uploads/2018/01/Screen-Shot-2018-01-25-at-7.59.27-PM-768x90.png\n",
        ")\n",
        "\n",
        "-It may be sensible to attach larger weights to more recent observations than to observations from the distant past. \n",
        "- The technique which works on this principle is called Simple exponential smoothing.\n",
        "- Forecasts are calculated using weighted averages where the weights decrease exponentially as observations come from further in the past, the smallest weights are associated with the oldest observations:\n",
        "\n",
        "![alt text](https://s3-ap-south-1.amazonaws.com/av-blog-media/wp-content/uploads/2018/02/SES-768x392.png)\n",
        "\n",
        "Doesn't this look similar to the discounted return concept from reinforcement learning? \n",
        "\n",
        "![alt text](https://image.slidesharecdn.com/reinforcementlearning-170329091514/95/reinforcement-learning-17-638.jpg?cb=1490778934\n",
        ")\n",
        "\n",
        "#### Holt’s linear trend method\n",
        "\n",
        "![alt text](https://s3-ap-south-1.amazonaws.com/av-blog-media/wp-content/uploads/2018/02/hl_new-768x408.png)\n",
        "\n",
        "- Holt extended simple exponential smoothing to allow forecasting of data with a trend.\n",
        "- It is nothing more than exponential smoothing applied to both level(the average value in the series) and trend.\n",
        "\n",
        "![alt text](https://s3-ap-south-1.amazonaws.com/av-blog-media/wp-content/uploads/2018/02/eq-768x317.png)\n",
        "\n",
        "![alt text](https://s3-ap-south-1.amazonaws.com/av-blog-media/wp-content/uploads/2018/02/HL-768x390.png)\n",
        "\n",
        "\n",
        "#### Holt’s Winter seasonal method\n",
        "\n",
        "![alt text](https://s3-ap-south-1.amazonaws.com/av-blog-media/wp-content/uploads/2018/01/Picture1.jpg)\n",
        "\n",
        "- The level equation shows a weighted average between the seasonally adjusted observation and the non-seasonal forecast for time t. \n",
        "- The trend equation is identical to Holt’s linear method. \n",
        "- The seasonal equation shows a weighted average between the current seasonal index, and the seasonal index of the same season last year (i.e., s time periods ago).\n",
        "\n",
        "![alt text](https://s3-ap-south-1.amazonaws.com/av-blog-media/wp-content/uploads/2018/01/eq.png)\n",
        "\n",
        "![alt text](https://s3-ap-south-1.amazonaws.com/av-blog-media/wp-content/uploads/2018/02/HW.png)\n",
        "\n"
      ]
    },
    {
      "metadata": {
        "id": "H-mnpA3CkClq",
        "colab_type": "text"
      },
      "cell_type": "markdown",
      "source": [
        "#### Multivariate Time Series\n",
        "\n",
        "- Similar, but finds linear interdependencies between multiple variables. \n",
        "- Each variable has a regression like equation, where it is regressed against its own lagged values and the lagged values of other variables\n",
        "- Examples includes ARIMA, ARIMAX, etc.\n",
        "- Or treat it like a supervised problem and use the sequential power of LSTM networks. \n",
        "\n",
        "#### Reinforcement Learning for time series data?\n",
        "\n",
        "- In reinforcement learning, there is an agent acting on the outside world, observing effects and learning to improve its behaviour. \n",
        "- In contrast, a time series forecast setting has a passive observer which do not interact with the environment. \n",
        "- Ideally, the environment 'reacts' to actions that an 'agent' takes. \n",
        "\n",
        "### Examples\n",
        "- Game world example is 'cartpole', if the pole moves in one direction, the balance its on moves as well.\n",
        "- Real world examples include any system that adapts to changes made by an agent\n",
        "- In the stock market, where buy and sell actions effect the price\n",
        "- In an electricity grid, where optimizing energy output effects interdependent variables like the cooling demand\n",
        "- Sensor networks, public works, all sorts of routing strategies inside of an interconnected system\n",
        "\n",
        "![alt text](http://www.turingfinance.com/wp-content/uploads/2014/04/Reinforcement-Learning.png)\n",
        "\n",
        "### We need more simulated environments! Create simulated environments for businesses, great startup idea\n"
      ]
    },
    {
      "metadata": {
        "id": "2PW9fbKelQHx",
        "colab_type": "code",
        "colab": {
          "base_uri": "https://localhost:8080/",
          "height": 34
        },
        "outputId": "35ee68ed-b869-4eff-e38e-f60989243d5c"
      },
      "cell_type": "code",
      "source": [
        "#1 - List the dataset\n",
        "!ls \"/content/drive/My Drive/train.h5\""
      ],
      "execution_count": 2,
      "outputs": [
        {
          "output_type": "stream",
          "text": [
            "'/content/drive/My Drive/train.h5'\n"
          ],
          "name": "stdout"
        }
      ]
    },
    {
      "metadata": {
        "id": "Pwfve2u4lezY",
        "colab_type": "code",
        "colab": {
          "base_uri": "https://localhost:8080/",
          "height": 207
        },
        "outputId": "a144991c-1c8f-40ac-c1e8-7b3274083614"
      },
      "cell_type": "code",
      "source": [
        "#2 - Convert data to pandas dataframe\n",
        "!pip install --upgrade tables\n",
        "\n",
        "import pandas as pd\n",
        "\n",
        "with pd.HDFStore('/content/drive/My Drive/train.h5', \"r\") as train:\n",
        "  df = train.get(\"train\")\n",
        "  "
      ],
      "execution_count": 3,
      "outputs": [
        {
          "output_type": "stream",
          "text": [
            "Collecting tables\n",
            "\u001b[?25l  Downloading https://files.pythonhosted.org/packages/d7/1b/21f4c7f296b718575c17ef25e61c05742a283c45077b4c8d5a190b3e0b59/tables-3.4.4-cp36-cp36m-manylinux1_x86_64.whl (3.8MB)\n",
            "\u001b[K    100% |████████████████████████████████| 3.8MB 10.7MB/s \n",
            "\u001b[?25hRequirement already satisfied, skipping upgrade: numpy>=1.8.0 in /usr/local/lib/python3.6/dist-packages (from tables) (1.14.6)\n",
            "Collecting numexpr>=2.5.2 (from tables)\n",
            "\u001b[?25l  Downloading https://files.pythonhosted.org/packages/db/ea/efd9e16283637eb5b6c0042b6cc3521f1b9a5b47767ac463c88bbd37670c/numexpr-2.6.8-cp36-cp36m-manylinux1_x86_64.whl (162kB)\n",
            "\u001b[K    100% |████████████████████████████████| 163kB 31.0MB/s \n",
            "\u001b[?25hRequirement already satisfied, skipping upgrade: six>=1.9.0 in /usr/local/lib/python3.6/dist-packages (from tables) (1.11.0)\n",
            "Installing collected packages: numexpr, tables\n",
            "Successfully installed numexpr-2.6.8 tables-3.4.4\n"
          ],
          "name": "stdout"
        }
      ]
    },
    {
      "metadata": {
        "id": "-BRYU_7nlkcI",
        "colab_type": "code",
        "colab": {
          "base_uri": "https://localhost:8080/",
          "height": 34
        },
        "outputId": "7808db98-72e3-4461-d939-d02f414deec8"
      },
      "cell_type": "code",
      "source": [
        "#3 - how big is our dataset?\n",
        "len(df)"
      ],
      "execution_count": 4,
      "outputs": [
        {
          "output_type": "execute_result",
          "data": {
            "text/plain": [
              "1710756"
            ]
          },
          "metadata": {
            "tags": []
          },
          "execution_count": 4
        }
      ]
    },
    {
      "metadata": {
        "id": "XTDdw0LolpfQ",
        "colab_type": "code",
        "colab": {
          "base_uri": "https://localhost:8080/",
          "height": 253
        },
        "outputId": "ba07b63a-25d0-489a-fb01-0cbdf914dcc0"
      },
      "cell_type": "code",
      "source": [
        "#4 - Examine the dataset\n",
        "df.head()"
      ],
      "execution_count": 5,
      "outputs": [
        {
          "output_type": "execute_result",
          "data": {
            "text/html": [
              "<div>\n",
              "<style scoped>\n",
              "    .dataframe tbody tr th:only-of-type {\n",
              "        vertical-align: middle;\n",
              "    }\n",
              "\n",
              "    .dataframe tbody tr th {\n",
              "        vertical-align: top;\n",
              "    }\n",
              "\n",
              "    .dataframe thead th {\n",
              "        text-align: right;\n",
              "    }\n",
              "</style>\n",
              "<table border=\"1\" class=\"dataframe\">\n",
              "  <thead>\n",
              "    <tr style=\"text-align: right;\">\n",
              "      <th></th>\n",
              "      <th>id</th>\n",
              "      <th>timestamp</th>\n",
              "      <th>derived_0</th>\n",
              "      <th>derived_1</th>\n",
              "      <th>derived_2</th>\n",
              "      <th>derived_3</th>\n",
              "      <th>derived_4</th>\n",
              "      <th>fundamental_0</th>\n",
              "      <th>fundamental_1</th>\n",
              "      <th>fundamental_2</th>\n",
              "      <th>...</th>\n",
              "      <th>technical_36</th>\n",
              "      <th>technical_37</th>\n",
              "      <th>technical_38</th>\n",
              "      <th>technical_39</th>\n",
              "      <th>technical_40</th>\n",
              "      <th>technical_41</th>\n",
              "      <th>technical_42</th>\n",
              "      <th>technical_43</th>\n",
              "      <th>technical_44</th>\n",
              "      <th>y</th>\n",
              "    </tr>\n",
              "  </thead>\n",
              "  <tbody>\n",
              "    <tr>\n",
              "      <th>0</th>\n",
              "      <td>10</td>\n",
              "      <td>0</td>\n",
              "      <td>0.370326</td>\n",
              "      <td>-0.006316</td>\n",
              "      <td>0.222831</td>\n",
              "      <td>-0.213030</td>\n",
              "      <td>0.729277</td>\n",
              "      <td>-0.335633</td>\n",
              "      <td>0.113292</td>\n",
              "      <td>1.621238</td>\n",
              "      <td>...</td>\n",
              "      <td>0.775208</td>\n",
              "      <td>NaN</td>\n",
              "      <td>NaN</td>\n",
              "      <td>NaN</td>\n",
              "      <td>-0.414776</td>\n",
              "      <td>NaN</td>\n",
              "      <td>NaN</td>\n",
              "      <td>-2.0</td>\n",
              "      <td>NaN</td>\n",
              "      <td>-0.011753</td>\n",
              "    </tr>\n",
              "    <tr>\n",
              "      <th>1</th>\n",
              "      <td>11</td>\n",
              "      <td>0</td>\n",
              "      <td>0.014765</td>\n",
              "      <td>-0.038064</td>\n",
              "      <td>-0.017425</td>\n",
              "      <td>0.320652</td>\n",
              "      <td>-0.034134</td>\n",
              "      <td>0.004413</td>\n",
              "      <td>0.114285</td>\n",
              "      <td>-0.210185</td>\n",
              "      <td>...</td>\n",
              "      <td>0.025590</td>\n",
              "      <td>NaN</td>\n",
              "      <td>NaN</td>\n",
              "      <td>NaN</td>\n",
              "      <td>-0.273607</td>\n",
              "      <td>NaN</td>\n",
              "      <td>NaN</td>\n",
              "      <td>-2.0</td>\n",
              "      <td>NaN</td>\n",
              "      <td>-0.001240</td>\n",
              "    </tr>\n",
              "    <tr>\n",
              "      <th>2</th>\n",
              "      <td>12</td>\n",
              "      <td>0</td>\n",
              "      <td>-0.010622</td>\n",
              "      <td>-0.050577</td>\n",
              "      <td>3.379575</td>\n",
              "      <td>-0.157525</td>\n",
              "      <td>-0.068550</td>\n",
              "      <td>-0.155937</td>\n",
              "      <td>1.219439</td>\n",
              "      <td>-0.764516</td>\n",
              "      <td>...</td>\n",
              "      <td>0.151881</td>\n",
              "      <td>NaN</td>\n",
              "      <td>NaN</td>\n",
              "      <td>NaN</td>\n",
              "      <td>-0.175710</td>\n",
              "      <td>NaN</td>\n",
              "      <td>NaN</td>\n",
              "      <td>-2.0</td>\n",
              "      <td>NaN</td>\n",
              "      <td>-0.020940</td>\n",
              "    </tr>\n",
              "    <tr>\n",
              "      <th>3</th>\n",
              "      <td>25</td>\n",
              "      <td>0</td>\n",
              "      <td>NaN</td>\n",
              "      <td>NaN</td>\n",
              "      <td>NaN</td>\n",
              "      <td>NaN</td>\n",
              "      <td>NaN</td>\n",
              "      <td>0.178495</td>\n",
              "      <td>NaN</td>\n",
              "      <td>-0.007262</td>\n",
              "      <td>...</td>\n",
              "      <td>1.035936</td>\n",
              "      <td>NaN</td>\n",
              "      <td>NaN</td>\n",
              "      <td>NaN</td>\n",
              "      <td>-0.211506</td>\n",
              "      <td>NaN</td>\n",
              "      <td>NaN</td>\n",
              "      <td>-2.0</td>\n",
              "      <td>NaN</td>\n",
              "      <td>-0.015959</td>\n",
              "    </tr>\n",
              "    <tr>\n",
              "      <th>4</th>\n",
              "      <td>26</td>\n",
              "      <td>0</td>\n",
              "      <td>0.176693</td>\n",
              "      <td>-0.025284</td>\n",
              "      <td>-0.057680</td>\n",
              "      <td>0.015100</td>\n",
              "      <td>0.180894</td>\n",
              "      <td>0.139445</td>\n",
              "      <td>-0.125687</td>\n",
              "      <td>-0.018707</td>\n",
              "      <td>...</td>\n",
              "      <td>0.630232</td>\n",
              "      <td>NaN</td>\n",
              "      <td>NaN</td>\n",
              "      <td>NaN</td>\n",
              "      <td>-0.001957</td>\n",
              "      <td>NaN</td>\n",
              "      <td>NaN</td>\n",
              "      <td>0.0</td>\n",
              "      <td>NaN</td>\n",
              "      <td>-0.007338</td>\n",
              "    </tr>\n",
              "  </tbody>\n",
              "</table>\n",
              "<p>5 rows × 111 columns</p>\n",
              "</div>"
            ],
            "text/plain": [
              "   id  timestamp  derived_0  derived_1  derived_2  derived_3  derived_4  \\\n",
              "0  10          0   0.370326  -0.006316   0.222831  -0.213030   0.729277   \n",
              "1  11          0   0.014765  -0.038064  -0.017425   0.320652  -0.034134   \n",
              "2  12          0  -0.010622  -0.050577   3.379575  -0.157525  -0.068550   \n",
              "3  25          0        NaN        NaN        NaN        NaN        NaN   \n",
              "4  26          0   0.176693  -0.025284  -0.057680   0.015100   0.180894   \n",
              "\n",
              "   fundamental_0  fundamental_1  fundamental_2    ...     technical_36  \\\n",
              "0      -0.335633       0.113292       1.621238    ...         0.775208   \n",
              "1       0.004413       0.114285      -0.210185    ...         0.025590   \n",
              "2      -0.155937       1.219439      -0.764516    ...         0.151881   \n",
              "3       0.178495            NaN      -0.007262    ...         1.035936   \n",
              "4       0.139445      -0.125687      -0.018707    ...         0.630232   \n",
              "\n",
              "   technical_37  technical_38  technical_39  technical_40  technical_41  \\\n",
              "0           NaN           NaN           NaN     -0.414776           NaN   \n",
              "1           NaN           NaN           NaN     -0.273607           NaN   \n",
              "2           NaN           NaN           NaN     -0.175710           NaN   \n",
              "3           NaN           NaN           NaN     -0.211506           NaN   \n",
              "4           NaN           NaN           NaN     -0.001957           NaN   \n",
              "\n",
              "   technical_42  technical_43  technical_44         y  \n",
              "0           NaN          -2.0           NaN -0.011753  \n",
              "1           NaN          -2.0           NaN -0.001240  \n",
              "2           NaN          -2.0           NaN -0.020940  \n",
              "3           NaN          -2.0           NaN -0.015959  \n",
              "4           NaN           0.0           NaN -0.007338  \n",
              "\n",
              "[5 rows x 111 columns]"
            ]
          },
          "metadata": {
            "tags": []
          },
          "execution_count": 5
        }
      ]
    },
    {
      "metadata": {
        "id": "bMiZUVxKGndk",
        "colab_type": "code",
        "colab": {
          "base_uri": "https://localhost:8080/",
          "height": 1904
        },
        "outputId": "74ec566c-c69a-4cb1-9e09-ba853a78293a"
      },
      "cell_type": "code",
      "source": [
        "#5 - how many labels and values do we have? \n",
        "\n",
        "labels = []\n",
        "values = []\n",
        "\n",
        "for col in df.columns:\n",
        "  labels.append(col)\n",
        "  values.append(df[col].isnull().sum())\n",
        "  print(col, values[-1])\n",
        "  "
      ],
      "execution_count": 6,
      "outputs": [
        {
          "output_type": "stream",
          "text": [
            "id 0\n",
            "timestamp 0\n",
            "derived_0 72959\n",
            "derived_1 81029\n",
            "derived_2 398651\n",
            "derived_3 149471\n",
            "derived_4 406458\n",
            "fundamental_0 23947\n",
            "fundamental_1 679070\n",
            "fundamental_2 368840\n",
            "fundamental_3 454380\n",
            "fundamental_5 962020\n",
            "fundamental_6 701625\n",
            "fundamental_7 26340\n",
            "fundamental_8 373166\n",
            "fundamental_9 565567\n",
            "fundamental_10 112977\n",
            "fundamental_11 368840\n",
            "fundamental_12 110871\n",
            "fundamental_13 355138\n",
            "fundamental_14 356084\n",
            "fundamental_15 354897\n",
            "fundamental_16 355138\n",
            "fundamental_17 97222\n",
            "fundamental_18 15833\n",
            "fundamental_19 54588\n",
            "fundamental_20 110871\n",
            "fundamental_21 54333\n",
            "fundamental_22 558488\n",
            "fundamental_23 356723\n",
            "fundamental_24 576655\n",
            "fundamental_25 121894\n",
            "fundamental_26 657184\n",
            "fundamental_27 281298\n",
            "fundamental_28 667331\n",
            "fundamental_29 354106\n",
            "fundamental_30 354907\n",
            "fundamental_31 454380\n",
            "fundamental_32 111672\n",
            "fundamental_33 13835\n",
            "fundamental_34 434862\n",
            "fundamental_35 424476\n",
            "fundamental_36 15843\n",
            "fundamental_37 355843\n",
            "fundamental_38 803489\n",
            "fundamental_39 377574\n",
            "fundamental_40 279702\n",
            "fundamental_41 30115\n",
            "fundamental_42 22913\n",
            "fundamental_43 354531\n",
            "fundamental_44 355805\n",
            "fundamental_45 16062\n",
            "fundamental_46 355843\n",
            "fundamental_47 446328\n",
            "fundamental_48 15843\n",
            "fundamental_49 558333\n",
            "fundamental_50 355231\n",
            "fundamental_51 447053\n",
            "fundamental_52 153927\n",
            "fundamental_53 23947\n",
            "fundamental_54 384213\n",
            "fundamental_55 368840\n",
            "fundamental_56 368840\n",
            "fundamental_57 657184\n",
            "fundamental_58 142125\n",
            "fundamental_59 16062\n",
            "fundamental_60 355126\n",
            "fundamental_61 671801\n",
            "fundamental_62 112977\n",
            "fundamental_63 375614\n",
            "technical_0 19165\n",
            "technical_1 126776\n",
            "technical_2 4279\n",
            "technical_3 98294\n",
            "technical_5 153604\n",
            "technical_6 4279\n",
            "technical_7 2236\n",
            "technical_9 19165\n",
            "technical_10 167483\n",
            "technical_11 4279\n",
            "technical_12 19165\n",
            "technical_13 4764\n",
            "technical_14 14184\n",
            "technical_16 19981\n",
            "technical_17 4279\n",
            "technical_18 20016\n",
            "technical_19 2320\n",
            "technical_20 4764\n",
            "technical_21 2236\n",
            "technical_22 0\n",
            "technical_24 71146\n",
            "technical_25 208056\n",
            "technical_27 2420\n",
            "technical_28 262916\n",
            "technical_29 61615\n",
            "technical_30 4764\n",
            "technical_31 182678\n",
            "technical_32 19165\n",
            "technical_33 14535\n",
            "technical_34 0\n",
            "technical_35 3155\n",
            "technical_36 2552\n",
            "technical_37 19165\n",
            "technical_38 19165\n",
            "technical_39 20016\n",
            "technical_40 2236\n",
            "technical_41 44189\n",
            "technical_42 20001\n",
            "technical_43 4686\n",
            "technical_44 236779\n",
            "y 0\n"
          ],
          "name": "stdout"
        }
      ]
    },
    {
      "metadata": {
        "id": "3-_7thzsB4ob",
        "colab_type": "code",
        "colab": {
          "base_uri": "https://localhost:8080/",
          "height": 2795
        },
        "outputId": "afb006ea-a2d5-4be0-d71a-66adc34d1f11"
      },
      "cell_type": "code",
      "source": [
        "#6 - How much missing data do we have?\n",
        "\n",
        "import matplotlib.pyplot as plt\n",
        "%matplotlib inline\n",
        "import numpy as np\n",
        "\n",
        "ind = np.arange(len(labels))\n",
        "width = 0.9\n",
        "fig, ax = plt.subplots(figsize = (12,50))\n",
        "rects = ax.barh( ind, np.array(values), color =\"y\")\n",
        "ax.set_yticks( ind +( (width) / 2.))\n",
        "ax.set_yticklabels(labels, rotation = \"horizontal\")\n",
        "ax.set_xlabel(\"count of missing values\")\n",
        "ax.set_title(\"# of missing values in each column\")\n",
        "plt.show()"
      ],
      "execution_count": 9,
      "outputs": [
        {
          "output_type": "display_data",
          "data": {
            "image/png": "[encoded data removed]",
            "text/plain": [
              "<matplotlib.figure.Figure at 0x7f405c952c18>"
            ]
          },
          "metadata": {
            "tags": []
          }
        }
      ]
    },
    {
      "metadata": {
        "id": "f982CK5GIoPT",
        "colab_type": "code",
        "colab": {
          "base_uri": "https://localhost:8080/",
          "height": 459
        },
        "outputId": "9afccc89-1898-4ad7-eeb9-0c25fdd37b71"
      },
      "cell_type": "code",
      "source": [
        "#7 - Counts for each timestep in the data\n",
        "\n",
        "import seaborn as sns\n",
        "\n",
        "fig = plt.figure(figsize=(12, 6))\n",
        "sns.countplot(x=\"timestamp\", data=df)\n",
        "plt.show()"
      ],
      "execution_count": 10,
      "outputs": [
        {
          "output_type": "stream",
          "text": [
            "/usr/local/lib/python3.6/dist-packages/seaborn/categorical.py:1428: FutureWarning: remove_na is deprecated and is a private function. Do not use.\n",
            "  stat_data = remove_na(group_data)\n"
          ],
          "name": "stderr"
        },
        {
          "output_type": "execute_result",
          "data": {
            "text/plain": [
              "<matplotlib.axes._subplots.AxesSubplot at 0x7f405c937a20>"
            ]
          },
          "metadata": {
            "tags": []
          },
          "execution_count": 10
        },
        {
          "output_type": "display_data",
          "data": {
            "image/png": "[encoded data removed]",
            "text/plain": [
              "<matplotlib.figure.Figure at 0x7f405c993cc0>"
            ]
          },
          "metadata": {
            "tags": []
          }
        }
      ]
    },
    {
      "metadata": {
        "id": "wlMxT-1OI19s",
        "colab_type": "code",
        "colab": {
          "base_uri": "https://localhost:8080/",
          "height": 34
        },
        "outputId": "022d6bd2-91f0-442d-c2ae-6441541eed47"
      },
      "cell_type": "code",
      "source": [
        "#8 - Unique Assets\n",
        "print(len(df.id.unique()))"
      ],
      "execution_count": 11,
      "outputs": [
        {
          "output_type": "stream",
          "text": [
            "1424\n"
          ],
          "name": "stdout"
        }
      ]
    },
    {
      "metadata": {
        "id": "y_W5bNeGprGz",
        "colab_type": "text"
      },
      "cell_type": "markdown",
      "source": [
        "#### The Markov Decision Process\n",
        "\n",
        "![alt text](https://slideplayer.com/slide/3007502/11/images/5/Markov+Decision+Processes+%28MDPs%29.jpg)\n",
        "\n",
        "- States (observations) - 1 variable (target)\n",
        "- Actions - Iterate 1\n",
        "- Rewards - R score (loss function)"
      ]
    },
    {
      "metadata": {
        "id": "i5D6NnGCl3m4",
        "colab_type": "code",
        "colab": {}
      },
      "cell_type": "code",
      "source": [
        "import os\n",
        "import pandas as pd\n",
        "import numpy as np\n",
        "from sklearn.metrics import r2_score\n",
        "\n",
        "# This is taken from Frans Slothoubers post on the contest discussion forum.\n",
        "# https://www.kaggle.com/slothouber/two-sigma-financial-modeling/kagglegym-emulation\n",
        "\n",
        "\n",
        "def r_score(y_true, y_pred, sample_weight=None, multioutput=None):\n",
        "    r2 = r2_score(y_true, y_pred, sample_weight=sample_weight,\n",
        "                  multioutput=multioutput)\n",
        "    r = (np.sign(r2)*np.sqrt(np.abs(r2)))\n",
        "    if r <= -1:\n",
        "        return -1\n",
        "    else:\n",
        "        return r"
      ],
      "execution_count": 0,
      "outputs": []
    },
    {
      "metadata": {
        "id": "efnVpoVi6LS7",
        "colab_type": "text"
      },
      "cell_type": "markdown",
      "source": [
        ""
      ]
    },
    {
      "metadata": {
        "id": "dv72AHnByllk",
        "colab_type": "code",
        "colab": {}
      },
      "cell_type": "code",
      "source": [
        "class Observation(object):\n",
        "    def __init__(self, train, target, features):\n",
        "        self.train = train\n",
        "        self.target = target\n",
        "        self.features = features\n",
        "\n",
        "\n",
        "class Environment(object):\n",
        "    def __init__(self):\n",
        "        with pd.HDFStore(\"/content/drive/My Drive/train.h5\", \"r\") as hfdata:\n",
        "            self.timestamp = 0\n",
        "            fullset = hfdata.get(\"train\")\n",
        "            self.unique_timestamp = fullset[\"timestamp\"].unique()\n",
        "            # Get a list of unique timestamps\n",
        "            # use the first half for training and\n",
        "            # the second half for the test set\n",
        "            n = len(self.unique_timestamp)\n",
        "            i = int(n/2)\n",
        "            timesplit = self.unique_timestamp[i]\n",
        "            self.n = n\n",
        "            self.unique_idx = i\n",
        "            self.train = fullset[fullset.timestamp < timesplit]\n",
        "            self.test = fullset[fullset.timestamp >= timesplit]\n",
        "\n",
        "            # Needed to compute final score\n",
        "            self.full = self.test.loc[:, ['timestamp', 'y']]\n",
        "            self.full['y_hat'] = 0.0\n",
        "            self.temp_test_y = None\n",
        "\n",
        "    def reset(self):\n",
        "        timesplit = self.unique_timestamp[self.unique_idx]\n",
        "\n",
        "        self.unique_idx = int(self.n / 2)\n",
        "        self.unique_idx += 1\n",
        "        subset = self.test[self.test.timestamp == timesplit]\n",
        "\n",
        "        # reset index to conform to how kagglegym works\n",
        "        target = subset.loc[:, ['id', 'y']].reset_index(drop=True)\n",
        "        self.temp_test_y = target['y']\n",
        "\n",
        "        target.loc[:, 'y'] = 0.0  # set the prediction column to zero\n",
        "\n",
        "        # changed bounds to 0:110 from 1:111 to mimic the behavior\n",
        "        # of api for feature\n",
        "        features = subset.iloc[:, :110].reset_index(drop=True)\n",
        "\n",
        "        observation = Observation(self.train, target, features)\n",
        "        return observation\n",
        "\n",
        "    def step(self, target):\n",
        "        timesplit = self.unique_timestamp[self.unique_idx-1]\n",
        "        # Since full and target have a different index we need\n",
        "        # to do a _values trick here to get the assignment working\n",
        "        y_hat = target.loc[:, ['y']]\n",
        "        self.full.loc[self.full.timestamp == timesplit, ['y_hat']] = y_hat._values\n",
        "\n",
        "        if self.unique_idx == self.n:\n",
        "            done = True\n",
        "            observation = None\n",
        "            reward = r_score(self.temp_test_y, target.loc[:, 'y'])\n",
        "            score = r_score(self.full['y'], self.full['y_hat'])\n",
        "            info = {'public_score': -score}\n",
        "        else:\n",
        "            reward = r_score(self.temp_test_y, target.loc[:, 'y'])\n",
        "            done = False\n",
        "            info = {}\n",
        "            timesplit = self.unique_timestamp[self.unique_idx]\n",
        "            self.unique_idx += 1\n",
        "            subset = self.test[self.test.timestamp == timesplit]\n",
        "\n",
        "            # reset index to conform to how kagglegym works\n",
        "            target = subset.loc[:, ['id', 'y']].reset_index(drop=True)\n",
        "            self.temp_test_y = target['y']\n",
        "\n",
        "            # set the prediction column to zero\n",
        "            target.loc[:, 'y'] = 0\n",
        "\n",
        "            # column bound change on the subset\n",
        "            # reset index to conform to how kagglegym works\n",
        "            features = subset.iloc[:, 0:110].reset_index(drop=True)\n",
        "\n",
        "            observation = Observation(self.train, target, features)\n",
        "\n",
        "        return observation, reward, done, info\n",
        "\n",
        "    def __str__(self):\n",
        "        return \"Environment()\""
      ],
      "execution_count": 0,
      "outputs": []
    },
    {
      "metadata": {
        "id": "trVF22fqnl70",
        "colab_type": "code",
        "colab": {}
      },
      "cell_type": "code",
      "source": [
        "#9 Agent Environment Loop\n",
        "\n",
        "def make():\n",
        "  return Environment()\n",
        "\n",
        "def test():\n",
        "  env = make()\n",
        "  observation = env.reset()\n",
        "  \n",
        "  print(len(observation.target))\n",
        "  print(len(observation.train))\n",
        "  \n",
        "  n = 0\n",
        "  \n",
        "  rewards = []\n",
        "  \n",
        "  while True:\n",
        "    target = observation.target\n",
        "    target.loc[:, \"y\"] = 0.0006\n",
        "    observation, reward, done, info = env.step(target)\n",
        "    if done:\n",
        "      break\n",
        "    rewards.append(reward)\n",
        "    n = n + 1\n",
        "  \n",
        "  print(info)\n",
        "  print(n)\n",
        "  print(rewards[0:15])"
      ],
      "execution_count": 0,
      "outputs": []
    },
    {
      "metadata": {
        "id": "WBlXpYBtmSAM",
        "colab_type": "code",
        "colab": {
          "base_uri": "https://localhost:8080/",
          "height": 122
        },
        "outputId": "4909bfa3-77c4-48c7-af5d-97df25f9654c"
      },
      "cell_type": "code",
      "source": [
        "#10 test it! \n",
        "test()"
      ],
      "execution_count": 18,
      "outputs": [
        {
          "output_type": "stream",
          "text": [
            "968\n",
            "806298\n",
            "{'public_score': 0.017829389044606993}\n",
            "906\n",
            "[-0.15367924219682547, -0.026140842058380256, -0.11231466648997339, -0.1682864647754967, -0.02167206673334583, -0.08693960274478746, -0.30473984896980755, -0.09382985372389648, -0.09945405540987054, -0.05014964521079367, -0.14505984849997253, -0.19402383221313182, -0.0017121406664662242, -0.01388272905431911, -0.2019392220527433]\n"
          ],
          "name": "stdout"
        }
      ]
    },
    {
      "metadata": {
        "id": "q4qbw2OJ4gLT",
        "colab_type": "text"
      },
      "cell_type": "markdown",
      "source": [
        "How could this RL framework be extended? Q learning! But we need a real-time API or simulated environment where actions effect the enviroment state\n",
        "\n",
        "![alt text](https://www.researchgate.net/profile/Kao-Shing_Hwang/publication/220776448/figure/fig1/AS:394068661161984@1470964698231/The-Q-Learning-Algorithm-6.png)\n",
        "\n"
      ]
    }
  ]
}